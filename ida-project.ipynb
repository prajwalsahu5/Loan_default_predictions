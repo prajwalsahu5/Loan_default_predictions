{
 "cells": [
  {
   "cell_type": "markdown",
   "metadata": {
    "id": "ZdzTB4isk19q"
   },
   "source": [
    "##### Importing Necessary Libraries"
   ]
  },
  {
   "cell_type": "code",
   "execution_count": 1,
   "metadata": {
    "id": "bTBBuoBf61FA"
   },
   "outputs": [],
   "source": [
    "import numpy as np\n",
    "import pandas as pd\n",
    "import matplotlib as mpl\n",
    "import matplotlib.pyplot as plt\n",
    "import seaborn as sns\n",
    "import missingno as msno"
   ]
  },
  {
   "cell_type": "markdown",
   "metadata": {
    "id": "S3kNn38UlRfR"
   },
   "source": [
    "# 1.Data Gathering and basic information about data"
   ]
  },
  {
   "cell_type": "code",
   "execution_count": 4,
   "metadata": {
    "id": "eDQZf5i961FG"
   },
   "outputs": [],
   "source": [
    "df=pd.read_csv(\"train_x.csv\")          ##Uploading data in notebook\n",
    "df_copy=df.copy()\n",
    "df_ytrain=pd.read_csv(\"train_y.csv\")\n",
    "df_ytrain=df_ytrain.drop(columns=['ID'])\n",
    "df_ytrain_copy=df_ytrain.copy()\n",
    "df_test=pd.read_csv(\"test_x.csv\")"
   ]
  },
  {
   "cell_type": "code",
   "execution_count": 5,
   "metadata": {
    "id": "5_beNsqF61FN",
    "outputId": "6250a5c7-b709-464c-a359-bbb76c1d3895"
   },
   "outputs": [
    {
     "data": {
      "text/html": [
       "<div>\n",
       "<style scoped>\n",
       "    .dataframe tbody tr th:only-of-type {\n",
       "        vertical-align: middle;\n",
       "    }\n",
       "\n",
       "    .dataframe tbody tr th {\n",
       "        vertical-align: top;\n",
       "    }\n",
       "\n",
       "    .dataframe thead th {\n",
       "        text-align: right;\n",
       "    }\n",
       "</style>\n",
       "<table border=\"1\" class=\"dataframe\">\n",
       "  <thead>\n",
       "    <tr style=\"text-align: right;\">\n",
       "      <th></th>\n",
       "      <th>ID</th>\n",
       "      <th>Expense</th>\n",
       "      <th>Income</th>\n",
       "      <th>Loan type</th>\n",
       "      <th>Occupation type</th>\n",
       "      <th>Age</th>\n",
       "      <th>Score1</th>\n",
       "      <th>Score2</th>\n",
       "      <th>Score3</th>\n",
       "      <th>Score4</th>\n",
       "      <th>Score5</th>\n",
       "    </tr>\n",
       "  </thead>\n",
       "  <tbody>\n",
       "    <tr>\n",
       "      <th>3983</th>\n",
       "      <td>3984</td>\n",
       "      <td>1707.352589</td>\n",
       "      <td>14143.51890</td>\n",
       "      <td>NaN</td>\n",
       "      <td>Z</td>\n",
       "      <td>0.0</td>\n",
       "      <td>0.301718</td>\n",
       "      <td>171.433620</td>\n",
       "      <td>6.938893</td>\n",
       "      <td>600.237516</td>\n",
       "      <td>3404.900689</td>\n",
       "    </tr>\n",
       "    <tr>\n",
       "      <th>21455</th>\n",
       "      <td>21456</td>\n",
       "      <td>1804.643549</td>\n",
       "      <td>14003.46159</td>\n",
       "      <td>A</td>\n",
       "      <td>Y</td>\n",
       "      <td>0.0</td>\n",
       "      <td>-0.043209</td>\n",
       "      <td>180.835632</td>\n",
       "      <td>22.360085</td>\n",
       "      <td>597.630088</td>\n",
       "      <td>3451.906434</td>\n",
       "    </tr>\n",
       "    <tr>\n",
       "      <th>44680</th>\n",
       "      <td>44681</td>\n",
       "      <td>1594.777883</td>\n",
       "      <td>15428.27675</td>\n",
       "      <td>B</td>\n",
       "      <td>Y</td>\n",
       "      <td>1.0</td>\n",
       "      <td>0.255187</td>\n",
       "      <td>197.234708</td>\n",
       "      <td>5.058296</td>\n",
       "      <td>601.622107</td>\n",
       "      <td>3350.510662</td>\n",
       "    </tr>\n",
       "    <tr>\n",
       "      <th>60459</th>\n",
       "      <td>60460</td>\n",
       "      <td>1922.878228</td>\n",
       "      <td>15958.31512</td>\n",
       "      <td>A</td>\n",
       "      <td>Y</td>\n",
       "      <td>0.0</td>\n",
       "      <td>NaN</td>\n",
       "      <td>171.322609</td>\n",
       "      <td>13.837793</td>\n",
       "      <td>600.182351</td>\n",
       "      <td>3509.031054</td>\n",
       "    </tr>\n",
       "    <tr>\n",
       "      <th>4816</th>\n",
       "      <td>4817</td>\n",
       "      <td>1807.255505</td>\n",
       "      <td>15455.19122</td>\n",
       "      <td>B</td>\n",
       "      <td>Y</td>\n",
       "      <td>1.0</td>\n",
       "      <td>0.128327</td>\n",
       "      <td>207.011000</td>\n",
       "      <td>15.029794</td>\n",
       "      <td>601.548868</td>\n",
       "      <td>3453.168390</td>\n",
       "    </tr>\n",
       "  </tbody>\n",
       "</table>\n",
       "</div>"
      ],
      "text/plain": [
       "          ID      Expense       Income Loan type Occupation type  Age  \\\n",
       "3983    3984  1707.352589  14143.51890       NaN               Z  0.0   \n",
       "21455  21456  1804.643549  14003.46159         A               Y  0.0   \n",
       "44680  44681  1594.777883  15428.27675         B               Y  1.0   \n",
       "60459  60460  1922.878228  15958.31512         A               Y  0.0   \n",
       "4816    4817  1807.255505  15455.19122         B               Y  1.0   \n",
       "\n",
       "         Score1      Score2     Score3      Score4       Score5  \n",
       "3983   0.301718  171.433620   6.938893  600.237516  3404.900689  \n",
       "21455 -0.043209  180.835632  22.360085  597.630088  3451.906434  \n",
       "44680  0.255187  197.234708   5.058296  601.622107  3350.510662  \n",
       "60459       NaN  171.322609  13.837793  600.182351  3509.031054  \n",
       "4816   0.128327  207.011000  15.029794  601.548868  3453.168390  "
      ]
     },
     "execution_count": 5,
     "metadata": {},
     "output_type": "execute_result"
    }
   ],
   "source": [
    "df.sample(5)"
   ]
  },
  {
   "cell_type": "code",
   "execution_count": 6,
   "metadata": {
    "id": "Jx3G3ahw61FQ",
    "outputId": "9dc70d3d-7fea-44b2-998b-438346c44b61"
   },
   "outputs": [
    {
     "data": {
      "text/plain": [
       "(80000, 11)"
      ]
     },
     "execution_count": 6,
     "metadata": {},
     "output_type": "execute_result"
    }
   ],
   "source": [
    "df.shape"
   ]
  },
  {
   "cell_type": "code",
   "execution_count": 7,
   "metadata": {
    "id": "spMNwBSf61FT",
    "outputId": "e88a4926-fb95-4fb0-f93a-3ce064d76059"
   },
   "outputs": [
    {
     "name": "stdout",
     "output_type": "stream",
     "text": [
      "<class 'pandas.core.frame.DataFrame'>\n",
      "RangeIndex: 80000 entries, 0 to 79999\n",
      "Data columns (total 11 columns):\n",
      " #   Column           Non-Null Count  Dtype  \n",
      "---  ------           --------------  -----  \n",
      " 0   ID               80000 non-null  int64  \n",
      " 1   Expense          77956 non-null  float64\n",
      " 2   Income           78045 non-null  float64\n",
      " 3   Loan type        77989 non-null  object \n",
      " 4   Occupation type  78141 non-null  object \n",
      " 5   Age              77986 non-null  float64\n",
      " 6   Score1           78060 non-null  float64\n",
      " 7   Score2           77964 non-null  float64\n",
      " 8   Score3           78045 non-null  float64\n",
      " 9   Score4           78028 non-null  float64\n",
      " 10  Score5           78002 non-null  float64\n",
      "dtypes: float64(8), int64(1), object(2)\n",
      "memory usage: 6.7+ MB\n"
     ]
    }
   ],
   "source": [
    "df.info()     ## gives non null value for each column"
   ]
  },
  {
   "cell_type": "code",
   "execution_count": 8,
   "metadata": {
    "id": "yzb981sU61FV",
    "outputId": "1c538737-67a5-40a1-9fd6-1c6fbdf547e8"
   },
   "outputs": [
    {
     "data": {
      "text/plain": [
       "ID                    0\n",
       "Expense            2044\n",
       "Income             1955\n",
       "Loan type          2011\n",
       "Occupation type    1859\n",
       "Age                2014\n",
       "Score1             1940\n",
       "Score2             2036\n",
       "Score3             1955\n",
       "Score4             1972\n",
       "Score5             1998\n",
       "dtype: int64"
      ]
     },
     "execution_count": 8,
     "metadata": {},
     "output_type": "execute_result"
    }
   ],
   "source": [
    "   ## total no. of null values in each Numeric column out of 80000 data pts."
   ]
  },
  {
   "cell_type": "markdown",
   "metadata": {
    "id": "OGZiEz8Pl4dz"
   },
   "source": [
    "# 2.Data Preprocessing"
   ]
  },
  {
   "cell_type": "markdown",
   "metadata": {
    "id": "1K2uKLoZ61FX"
   },
   "source": [
    "## Data imputing"
   ]
  },
  {
   "cell_type": "markdown",
   "metadata": {
    "id": "GNfmdAk861FY"
   },
   "source": [
    "#### About 2% missing data in every column except ID column"
   ]
  },
  {
   "cell_type": "code",
   "execution_count": 9,
   "metadata": {
    "id": "FtGcIm_g61Fa",
    "outputId": "fc989a3b-f740-48ee-f1ec-6de36575c748"
   },
   "outputs": [
    {
     "data": {
      "text/plain": [
       "<AxesSubplot:>"
      ]
     },
     "execution_count": 9,
     "metadata": {},
     "output_type": "execute_result"
    },
    {
     "data": {
      "image/png": "[encoded data removed]",
      "text/plain": [
       "<Figure size 1800x720 with 2 Axes>"
      ]
     },
     "metadata": {
      "needs_background": "light"
     },
     "output_type": "display_data"
    }
   ],
   "source": [
    "miss_columns=df.columns[df.isnull().any()]    #finding missing values graphically\n",
    "msno.matrix(df[miss_columns])"
   ]
  },
  {
   "cell_type": "markdown",
   "metadata": {
    "id": "1Llj3NXYCdF_"
   },
   "source": [
    "##### Divided categorical and numeric columns"
   ]
  },
  {
   "cell_type": "code",
   "execution_count": 10,
   "metadata": {
    "id": "SYMpIDOM61Fc"
   },
   "outputs": [],
   "source": [
    "catcolumns=df.select_dtypes(include=['object']).columns\n",
    "numcolumns=[x for x in df.columns if x not in catcolumns]"
   ]
  },
  {
   "cell_type": "markdown",
   "metadata": {
    "id": "p2uZnFzzCrhL"
   },
   "source": [
    "## 2.1 Imputation of categorical variables by frequency"
   ]
  },
  {
   "cell_type": "code",
   "execution_count": 13,
   "metadata": {
    "id": "MyPDL4X061Ff",
    "outputId": "9621ba43-9d8d-4a4c-8a14-a830e5b76095"
   },
   "outputs": [
    {
     "name": "stdout",
     "output_type": "stream",
     "text": [
      "Loan type\n",
      "Occupation type\n"
     ]
    }
   ],
   "source": [
    "for x in catcolumns:\n",
    "    print(x)\n",
    "    df[x].fillna(df[x].value_counts().index[0],inplace=True)\n",
    "    df_test[x].fillna(df_test[x].value_counts().index[0],inplace=True)\n",
    "df_test.rename(columns={'ID_Test':'ID'},inplace=True)    "
   ]
  },
  {
   "cell_type": "code",
   "execution_count": 14,
   "metadata": {
    "id": "_vp5CGdv61Fh",
    "outputId": "f493393d-d4f1-4e50-eef9-a886d80826e0"
   },
   "outputs": [
    {
     "data": {
      "text/plain": [
       "Loan type          0\n",
       "Occupation type    0\n",
       "dtype: int64"
      ]
     },
     "execution_count": 14,
     "metadata": {},
     "output_type": "execute_result"
    }
   ],
   "source": [
    "df[catcolumns].isnull().sum()"
   ]
  },
  {
   "cell_type": "markdown",
   "metadata": {
    "id": "-dL0tXE1DYu_"
   },
   "source": [
    "## 2.2 Imputation of numeric features"
   ]
  },
  {
   "cell_type": "markdown",
   "metadata": {
    "id": "9ZiZ19PdJlnf"
   },
   "source": [
    "#### 2.2.1 Imputation of output variable of training set"
   ]
  },
  {
   "cell_type": "code",
   "execution_count": 22,
   "metadata": {
    "id": "tDwVLI8o61Fq"
   },
   "outputs": [],
   "source": [
    "df_ytrain.fillna(0,inplace=True)"
   ]
  },
  {
   "cell_type": "code",
   "execution_count": 23,
   "metadata": {
    "id": "azJuuRFR61Fl",
    "outputId": "6915e298-8ae3-4501-d514-d6a1445f7941"
   },
   "outputs": [
    {
     "data": {
      "text/plain": [
       "Label    0\n",
       "dtype: int64"
      ]
     },
     "execution_count": 23,
     "metadata": {},
     "output_type": "execute_result"
    }
   ],
   "source": [
    "df_ytrain.isnull().sum()"
   ]
  },
  {
   "cell_type": "markdown",
   "metadata": {
    "id": "UNc_LuN2JL_k"
   },
   "source": [
    "#### 2.2.2 Imputation of numeric features using MICE Technique"
   ]
  },
  {
   "cell_type": "code",
   "execution_count": 24,
   "metadata": {
    "id": "MC_GTrjeGtks",
    "outputId": "ce1b712f-5f76-46ff-e452-41f3531ab5ca"
   },
   "outputs": [
    {
     "name": "stdout",
     "output_type": "stream",
     "text": [
      "Requirement already satisfied: impyute in c:\\users\\prajwal\\anaconda3\\lib\\site-packages (0.0.8)\n",
      "Requirement already satisfied: numpy in c:\\users\\prajwal\\anaconda3\\lib\\site-packages (from impyute) (1.20.2)\n",
      "Requirement already satisfied: scipy in c:\\users\\prajwal\\anaconda3\\lib\\site-packages (from impyute) (1.6.2)\n",
      "Requirement already satisfied: scikit-learn in c:\\users\\prajwal\\anaconda3\\lib\\site-packages (from impyute) (0.24.2)\n",
      "Requirement already satisfied: threadpoolctl>=2.0.0 in c:\\users\\prajwal\\anaconda3\\lib\\site-packages (from scikit-learn->impyute) (2.1.0)\n",
      "Requirement already satisfied: joblib>=0.11 in c:\\users\\prajwal\\anaconda3\\lib\\site-packages (from scikit-learn->impyute) (1.0.1)\n"
     ]
    }
   ],
   "source": [
    "!pip install impyute"
   ]
  },
  {
   "cell_type": "code",
   "execution_count": 28,
   "metadata": {
    "id": "AUoRIKS2GXah"
   },
   "outputs": [],
   "source": [
    "from impyute.imputation.cs import mice\n",
    "\n",
    "# start the MICE training\n",
    "imputed_training=mice(df[numcolumns].values)\n"
   ]
  },
  {
   "cell_type": "code",
   "execution_count": 26,
   "metadata": {
    "id": "fC2nA3DSH_Mb"
   },
   "outputs": [],
   "source": [
    "df_mice=pd.DataFrame(imputed_training)"
   ]
  },
  {
   "cell_type": "code",
   "execution_count": 27,
   "metadata": {
    "id": "GmGVy-ABIlQ3",
    "outputId": "d8b1f9dc-ad41-4bdc-ab0c-ce4269bb807d"
   },
   "outputs": [
    {
     "data": {
      "text/html": [
       "<div>\n",
       "<style scoped>\n",
       "    .dataframe tbody tr th:only-of-type {\n",
       "        vertical-align: middle;\n",
       "    }\n",
       "\n",
       "    .dataframe tbody tr th {\n",
       "        vertical-align: top;\n",
       "    }\n",
       "\n",
       "    .dataframe thead th {\n",
       "        text-align: right;\n",
       "    }\n",
       "</style>\n",
       "<table border=\"1\" class=\"dataframe\">\n",
       "  <thead>\n",
       "    <tr style=\"text-align: right;\">\n",
       "      <th></th>\n",
       "      <th>0</th>\n",
       "      <th>1</th>\n",
       "      <th>2</th>\n",
       "      <th>3</th>\n",
       "      <th>4</th>\n",
       "      <th>5</th>\n",
       "      <th>6</th>\n",
       "      <th>7</th>\n",
       "      <th>8</th>\n",
       "    </tr>\n",
       "  </thead>\n",
       "  <tbody>\n",
       "    <tr>\n",
       "      <th>0</th>\n",
       "      <td>1.0</td>\n",
       "      <td>1830.943788</td>\n",
       "      <td>14767.28013</td>\n",
       "      <td>1.0</td>\n",
       "      <td>0.016885</td>\n",
       "      <td>205.196182</td>\n",
       "      <td>22.521523</td>\n",
       "      <td>600.911200</td>\n",
       "      <td>3464.613291</td>\n",
       "    </tr>\n",
       "    <tr>\n",
       "      <th>1</th>\n",
       "      <td>2.0</td>\n",
       "      <td>1645.302546</td>\n",
       "      <td>15272.26775</td>\n",
       "      <td>0.0</td>\n",
       "      <td>0.240375</td>\n",
       "      <td>194.266317</td>\n",
       "      <td>5.349117</td>\n",
       "      <td>600.888816</td>\n",
       "      <td>3374.921455</td>\n",
       "    </tr>\n",
       "    <tr>\n",
       "      <th>2</th>\n",
       "      <td>3.0</td>\n",
       "      <td>1555.026392</td>\n",
       "      <td>17482.49734</td>\n",
       "      <td>0.0</td>\n",
       "      <td>0.213921</td>\n",
       "      <td>183.529871</td>\n",
       "      <td>-1.054954</td>\n",
       "      <td>598.596944</td>\n",
       "      <td>3331.304886</td>\n",
       "    </tr>\n",
       "    <tr>\n",
       "      <th>3</th>\n",
       "      <td>4.0</td>\n",
       "      <td>1681.222110</td>\n",
       "      <td>16257.66493</td>\n",
       "      <td>0.0</td>\n",
       "      <td>0.303909</td>\n",
       "      <td>191.228965</td>\n",
       "      <td>6.971750</td>\n",
       "      <td>602.447203</td>\n",
       "      <td>3392.275849</td>\n",
       "    </tr>\n",
       "    <tr>\n",
       "      <th>4</th>\n",
       "      <td>5.0</td>\n",
       "      <td>1777.648916</td>\n",
       "      <td>16316.29914</td>\n",
       "      <td>1.0</td>\n",
       "      <td>0.310138</td>\n",
       "      <td>224.074728</td>\n",
       "      <td>11.218489</td>\n",
       "      <td>605.947340</td>\n",
       "      <td>3438.864083</td>\n",
       "    </tr>\n",
       "    <tr>\n",
       "      <th>...</th>\n",
       "      <td>...</td>\n",
       "      <td>...</td>\n",
       "      <td>...</td>\n",
       "      <td>...</td>\n",
       "      <td>...</td>\n",
       "      <td>...</td>\n",
       "      <td>...</td>\n",
       "      <td>...</td>\n",
       "      <td>...</td>\n",
       "    </tr>\n",
       "    <tr>\n",
       "      <th>79995</th>\n",
       "      <td>79996.0</td>\n",
       "      <td>1470.317116</td>\n",
       "      <td>16659.49663</td>\n",
       "      <td>0.0</td>\n",
       "      <td>0.208757</td>\n",
       "      <td>172.526308</td>\n",
       "      <td>-5.332184</td>\n",
       "      <td>596.648261</td>\n",
       "      <td>3290.377932</td>\n",
       "    </tr>\n",
       "    <tr>\n",
       "      <th>79996</th>\n",
       "      <td>79997.0</td>\n",
       "      <td>1923.617480</td>\n",
       "      <td>14910.36890</td>\n",
       "      <td>0.0</td>\n",
       "      <td>0.201837</td>\n",
       "      <td>186.252458</td>\n",
       "      <td>15.425841</td>\n",
       "      <td>600.855069</td>\n",
       "      <td>3509.388221</td>\n",
       "    </tr>\n",
       "    <tr>\n",
       "      <th>79997</th>\n",
       "      <td>79998.0</td>\n",
       "      <td>1711.147154</td>\n",
       "      <td>15962.25945</td>\n",
       "      <td>1.0</td>\n",
       "      <td>0.226396</td>\n",
       "      <td>196.098150</td>\n",
       "      <td>8.161353</td>\n",
       "      <td>601.360722</td>\n",
       "      <td>3406.734018</td>\n",
       "    </tr>\n",
       "    <tr>\n",
       "      <th>79998</th>\n",
       "      <td>79999.0</td>\n",
       "      <td>1673.822523</td>\n",
       "      <td>15525.27413</td>\n",
       "      <td>0.0</td>\n",
       "      <td>0.101090</td>\n",
       "      <td>186.390184</td>\n",
       "      <td>3.381393</td>\n",
       "      <td>596.750750</td>\n",
       "      <td>3388.700770</td>\n",
       "    </tr>\n",
       "    <tr>\n",
       "      <th>79999</th>\n",
       "      <td>80000.0</td>\n",
       "      <td>1486.290579</td>\n",
       "      <td>16207.20250</td>\n",
       "      <td>0.0</td>\n",
       "      <td>0.187832</td>\n",
       "      <td>182.131337</td>\n",
       "      <td>-3.786435</td>\n",
       "      <td>597.251640</td>\n",
       "      <td>3298.108069</td>\n",
       "    </tr>\n",
       "  </tbody>\n",
       "</table>\n",
       "<p>80000 rows × 9 columns</p>\n",
       "</div>"
      ],
      "text/plain": [
       "             0            1            2    3         4           5  \\\n",
       "0          1.0  1830.943788  14767.28013  1.0  0.016885  205.196182   \n",
       "1          2.0  1645.302546  15272.26775  0.0  0.240375  194.266317   \n",
       "2          3.0  1555.026392  17482.49734  0.0  0.213921  183.529871   \n",
       "3          4.0  1681.222110  16257.66493  0.0  0.303909  191.228965   \n",
       "4          5.0  1777.648916  16316.29914  1.0  0.310138  224.074728   \n",
       "...        ...          ...          ...  ...       ...         ...   \n",
       "79995  79996.0  1470.317116  16659.49663  0.0  0.208757  172.526308   \n",
       "79996  79997.0  1923.617480  14910.36890  0.0  0.201837  186.252458   \n",
       "79997  79998.0  1711.147154  15962.25945  1.0  0.226396  196.098150   \n",
       "79998  79999.0  1673.822523  15525.27413  0.0  0.101090  186.390184   \n",
       "79999  80000.0  1486.290579  16207.20250  0.0  0.187832  182.131337   \n",
       "\n",
       "               6           7            8  \n",
       "0      22.521523  600.911200  3464.613291  \n",
       "1       5.349117  600.888816  3374.921455  \n",
       "2      -1.054954  598.596944  3331.304886  \n",
       "3       6.971750  602.447203  3392.275849  \n",
       "4      11.218489  605.947340  3438.864083  \n",
       "...          ...         ...          ...  \n",
       "79995  -5.332184  596.648261  3290.377932  \n",
       "79996  15.425841  600.855069  3509.388221  \n",
       "79997   8.161353  601.360722  3406.734018  \n",
       "79998   3.381393  596.750750  3388.700770  \n",
       "79999  -3.786435  597.251640  3298.108069  \n",
       "\n",
       "[80000 rows x 9 columns]"
      ]
     },
     "execution_count": 27,
     "metadata": {},
     "output_type": "execute_result"
    }
   ],
   "source": [
    "df_mice"
   ]
  },
  {
   "cell_type": "markdown",
   "metadata": {
    "id": "aByk9xP-61Fx"
   },
   "source": [
    "#### Data imputed"
   ]
  },
  {
   "cell_type": "code",
   "execution_count": null,
   "metadata": {
    "id": "_oDyS6Ea61Fx",
    "outputId": "c1011d6e-a5a0-44a4-827d-1fe445ea1fa8"
   },
   "outputs": [],
   "source": [
    "df.sample(5)"
   ]
  },
  {
   "cell_type": "markdown",
   "metadata": {
    "id": "jXEuVWB361Fz"
   },
   "source": [
    "\n",
    "## 2.3 Categorical features encoding "
   ]
  },
  {
   "cell_type": "code",
   "execution_count": null,
   "metadata": {
    "id": "MQ77wp-t61Fz",
    "outputId": "cb9e05bb-ded5-46a6-f080-0f36716c7631"
   },
   "outputs": [],
   "source": [
    "df['Loan type'].unique()"
   ]
  },
  {
   "cell_type": "code",
   "execution_count": null,
   "metadata": {
    "id": "8HCeY5EH61F2",
    "outputId": "a863f0fc-eaa4-48a0-dfd0-42ba2a3c778f"
   },
   "outputs": [],
   "source": [
    "df['Occupation type'].unique()"
   ]
  },
  {
   "cell_type": "markdown",
   "metadata": {
    "id": "ZjwLucHz61F4"
   },
   "source": [
    "#### Dummy encoding"
   ]
  },
  {
   "cell_type": "code",
   "execution_count": null,
   "metadata": {
    "id": "3Kz01_SP61F6",
    "outputId": "e2e0b26e-0a18-4353-ffdc-d4ddcc61ccf8"
   },
   "outputs": [],
   "source": [
    "df_dummies=pd.get_dummies(df[catcolumns],drop_first=True)\n",
    "df_dummies_test=pd.get_dummies(df_test[catcolumns],drop_first=True)\n",
    "df_dummies.shape"
   ]
  },
  {
   "cell_type": "code",
   "execution_count": null,
   "metadata": {
    "id": "-xTcxIaB61F8",
    "outputId": "acfb0741-f66e-4810-d383-6e3960c36fb8"
   },
   "outputs": [],
   "source": [
    "df_dummies"
   ]
  },
  {
   "cell_type": "markdown",
   "metadata": {
    "id": "dnJt9R4H61F_"
   },
   "source": [
    "\n",
    "### END RESULT AFTER PREPROCESSING: Final clean data with all numeric columns"
   ]
  },
  {
   "cell_type": "code",
   "execution_count": null,
   "metadata": {
    "id": "_OQs38DW61GA"
   },
   "outputs": [],
   "source": [
    "df_numeric=pd.concat([df_mice,df_dummies],axis=1)\n",
    "df_numeric_test=pd.concat([df_test,df_dummies_test],axis=1)\n",
    "df_numeric_test.drop(columns=catcolumns,inplace=True)"
   ]
  },
  {
   "cell_type": "code",
   "execution_count": null,
   "metadata": {
    "id": "OJVR2kdC8e7a"
   },
   "outputs": [],
   "source": [
    "df_numeric.rename(columns={0:'ID',1:'Expense',2:'Income',3:'Age',4:'Score1',5:'Score2',6:'Score3',7:'Score4',8:'Score5'},inplace=True)\n",
    "df_numeric_test.rename(columns={0:'ID',1:'Expense',2:'Income',3:'Age',4:'Score1',5:'Score2',6:'Score3',7:'Score4',8:'Score5'},inplace=True)"
   ]
  },
  {
   "cell_type": "markdown",
   "metadata": {
    "id": "ECyVYKya61GC"
   },
   "source": [
    "# 3.Exploratory data analysis"
   ]
  },
  {
   "cell_type": "markdown",
   "metadata": {
    "id": "_iioWCc6nA5y"
   },
   "source": [
    "#### Imbalanced output variable"
   ]
  },
  {
   "cell_type": "code",
   "execution_count": null,
   "metadata": {
    "id": "u39YtG55koXg",
    "outputId": "369ea812-1696-4f57-c35e-65a40d5d451d"
   },
   "outputs": [],
   "source": [
    "df_ytrain['Label'].value_counts()  "
   ]
  },
  {
   "cell_type": "code",
   "execution_count": null,
   "metadata": {
    "id": "R7o7t2aWkmBy",
    "outputId": "a42f5638-d7e3-4496-d5e9-94a3b03fa370"
   },
   "outputs": [],
   "source": [
    "count_classes=pd.value_counts(df_ytrain['Label'],sort=True)\n",
    "count_classes.plot(kind='bar')\n",
    "plt.title(\"Classes vs count of classes\")\n",
    "plt.xlabel('Class')\n",
    "plt.ylabel('Frequency')"
   ]
  },
  {
   "cell_type": "markdown",
   "metadata": {
    "id": "ggvdVuUSnFpk"
   },
   "source": [
    "#### All plots combinations between  different features for understanding about data"
   ]
  },
  {
   "cell_type": "code",
   "execution_count": null,
   "metadata": {
    "id": "rSdqAJYd61GD",
    "outputId": "477d3216-ad85-47d8-e14e-e291e5d1512a"
   },
   "outputs": [],
   "source": [
    "sns.pairplot(df)"
   ]
  },
  {
   "cell_type": "code",
   "execution_count": null,
   "metadata": {
    "id": "HlSItlGp9qSO",
    "outputId": "9aedcf74-a322-47b1-9571-e589ba716362"
   },
   "outputs": [],
   "source": [
    "sns.boxplot(df_numeric['Income'])"
   ]
  },
  {
   "cell_type": "code",
   "execution_count": null,
   "metadata": {
    "id": "Ue4lfUyDEwSA",
    "outputId": "d24ab551-8743-4f85-a21d-a402158633ae"
   },
   "outputs": [],
   "source": [
    "sns.boxplot(df_numeric['Expense'])"
   ]
  },
  {
   "cell_type": "markdown",
   "metadata": {
    "id": "8N80sHCY61GF"
   },
   "source": [
    "#### 1.All features plotted against frequency have gaussian distribution\n",
    "#### 2.Expense and Income features have outliers"
   ]
  },
  {
   "cell_type": "code",
   "execution_count": null,
   "metadata": {
    "id": "0ak99bNv61GG",
    "outputId": "e666cb05-c4a7-4ce2-d1d1-f6dda52e21af"
   },
   "outputs": [],
   "source": [
    "sns.heatmap(df_numeric.corr(),linewidths=.5,cmap=\"YlGnBu\")"
   ]
  },
  {
   "cell_type": "markdown",
   "metadata": {
    "id": "uV0Cr1e0B9Xy"
   },
   "source": [
    "## Standardizing the data"
   ]
  },
  {
   "cell_type": "code",
   "execution_count": null,
   "metadata": {
    "id": "5wAacygM_qwV"
   },
   "outputs": [],
   "source": [
    "from sklearn.preprocessing import StandardScaler\n",
    "scaler = StandardScaler()\n",
    "df_numeric2=pd.DataFrame(scaler.fit_transform(df_numeric.values))\n",
    "df_numeric2_test=pd.DataFrame(scaler.fit_transform(df_numeric_test.values))"
   ]
  },
  {
   "cell_type": "markdown",
   "metadata": {
    "id": "5iiAO81YRJXq"
   },
   "source": [
    "### Checking Multicollinearity"
   ]
  },
  {
   "cell_type": "code",
   "execution_count": null,
   "metadata": {
    "id": "jbes_SEK61GL",
    "outputId": "cc70aa61-3d9b-4d50-914f-c68497229a94"
   },
   "outputs": [],
   "source": [
    "from statsmodels.stats.outliers_influence import variance_inflation_factor\n",
    "\n",
    "vif = pd.DataFrame()\n",
    "vif[\"variables\"] = df_numeric2.columns\n",
    "vif[\"VIF\"]=[variance_inflation_factor(df_numeric2.values, i) for i in range(df_numeric2.shape[1])]\n",
    "vif"
   ]
  },
  {
   "cell_type": "markdown",
   "metadata": {
    "id": "VX7meErQ_Vt0"
   },
   "source": [
    "#### We can see  some  variables have high VIF scores therefore are correlated to one other "
   ]
  },
  {
   "cell_type": "markdown",
   "metadata": {
    "id": "jujomYrU61GT"
   },
   "source": [
    "# 4.Train/test split and Handling Imbalanced dataset"
   ]
  },
  {
   "cell_type": "markdown",
   "metadata": {
    "id": "_o_7U1QR20Je"
   },
   "source": [
    "#### 4.1.Normal split of data"
   ]
  },
  {
   "cell_type": "code",
   "execution_count": null,
   "metadata": {
    "id": "gFeRT5qA61GU"
   },
   "outputs": [],
   "source": [
    "x=df_numeric2.values\n",
    "y=df_ytrain.values\n",
    "X_TEST=df_numeric2_test.values"
   ]
  },
  {
   "cell_type": "code",
   "execution_count": null,
   "metadata": {
    "id": "5Q1dZD-q61GW"
   },
   "outputs": [],
   "source": [
    "from sklearn.model_selection import train_test_split\n",
    "xtrain,xtest,ytrain,ytest = train_test_split(x,y,train_size=0.8,random_state=42)"
   ]
  },
  {
   "cell_type": "markdown",
   "metadata": {
    "id": "chFHs_0b256v"
   },
   "source": [
    "#### 4.2. Split of data after using random over sampling technique"
   ]
  },
  {
   "cell_type": "code",
   "execution_count": null,
   "metadata": {
    "id": "uzmKJ0SBDz8q",
    "outputId": "d6ef20a5-436a-457f-8756-351968a2f0ec"
   },
   "outputs": [],
   "source": [
    "from sklearn.model_selection import train_test_split\n",
    "from imblearn.over_sampling import RandomOverSampler\n",
    "os=RandomOverSampler(0.8)\n",
    "x_os,y_os=os.fit_sample(x,y)\n",
    "xtrain_os,xtest_os,ytrain_os,ytest_os = train_test_split(x_os,y_os,train_size=0.8,random_state=42)"
   ]
  },
  {
   "cell_type": "code",
   "execution_count": null,
   "metadata": {
    "id": "LeQutdgrGWm3",
    "outputId": "f0fb42f3-8a4f-45a6-80fb-1091f267f4d4"
   },
   "outputs": [],
   "source": [
    "from collections import Counter\n",
    "print('Before oversampling',Counter(y.flatten()))\n",
    "print('Before oversampling',Counter(y_os))"
   ]
  },
  {
   "cell_type": "markdown",
   "metadata": {
    "id": "gb4we2Iu3DAG"
   },
   "source": [
    "#### 4.3. Split of data after using SMOTE technique of handling imbalance set"
   ]
  },
  {
   "cell_type": "code",
   "execution_count": null,
   "metadata": {
    "id": "TJvyviE_E-uY",
    "outputId": "b49bf381-dfa2-495a-b00a-3a4850b328b7"
   },
   "outputs": [],
   "source": [
    "from imblearn.over_sampling import SMOTE\n",
    "smote=SMOTE()\n",
    "x_sm,y_sm=smote.fit_sample(x,y)\n",
    "xtrain_sm,xtest_sm,ytrain_sm,ytest_sm = train_test_split(x_sm,y_sm,train_size=0.8,random_state=42)"
   ]
  },
  {
   "cell_type": "code",
   "execution_count": null,
   "metadata": {
    "id": "Cm2DHqsbFg-6",
    "outputId": "06e50016-87e3-4400-c47d-209d77c8036a"
   },
   "outputs": [],
   "source": [
    "from collections import Counter\n",
    "print('Before smote',Counter(y.flatten()))\n",
    "print('Before smote',Counter(y_sm))"
   ]
  },
  {
   "cell_type": "markdown",
   "metadata": {
    "id": "wTHKxV5A61GY"
   },
   "source": [
    "# 5.Modelling"
   ]
  },
  {
   "cell_type": "markdown",
   "metadata": {
    "id": "LpqIzoA63Xa-"
   },
   "source": [
    "### 5.1 Defining all classifiers"
   ]
  },
  {
   "cell_type": "code",
   "execution_count": null,
   "metadata": {
    "id": "Pu3rfgQL61GY"
   },
   "outputs": [],
   "source": [
    "from sklearn.ensemble import RandomForestClassifier, AdaBoostClassifier, GradientBoostingClassifier, ExtraTreesClassifier, VotingClassifier\n",
    "from sklearn.discriminant_analysis import LinearDiscriminantAnalysis\n",
    "from sklearn.linear_model import LogisticRegression\n",
    "from sklearn.neighbors import KNeighborsClassifier                          \n",
    "from sklearn.tree import DecisionTreeClassifier\n",
    "from sklearn.neural_network import MLPClassifier\n",
    "from sklearn.svm import SVC\n",
    "from xgboost import XGBClassifier\n",
    "from sklearn.model_selection import GridSearchCV, cross_val_score, StratifiedKFold, learning_curve\n",
    "from lightgbm import LGBMClassifier\n",
    "from sklearn.metrics import accuracy_score,f1_score,classification_report\n",
    "\n",
    "sns.set(style='white', context='notebook', palette='deep')\n",
    "kfold = StratifiedKFold(n_splits=10)"
   ]
  },
  {
   "cell_type": "markdown",
   "metadata": {
    "id": "btNDna1a61Ga"
   },
   "source": [
    "### 5.2 (Model selection using K-Fold cross validation)-comparing all models on SMOTE Balanced data"
   ]
  },
  {
   "cell_type": "code",
   "execution_count": null,
   "metadata": {
    "id": "rgyM04iF61Ga",
    "outputId": "8b579b8d-9bc7-4461-87c5-7f351add83aa"
   },
   "outputs": [],
   "source": [
    "random_state = 2\n",
    "classifiers = []\n",
    "classifiers.append(SVC(random_state=random_state))\n",
    "classifiers.append(DecisionTreeClassifier(random_state=random_state))\n",
    "classifiers.append(AdaBoostClassifier(DecisionTreeClassifier(random_state=random_state),random_state=random_state,learning_rate=0.1))\n",
    "classifiers.append(RandomForestClassifier(random_state=random_state))\n",
    "classifiers.append(ExtraTreesClassifier(random_state=random_state))\n",
    "classifiers.append(GradientBoostingClassifier(random_state=random_state))\n",
    "classifiers.append(MLPClassifier(random_state=random_state))\n",
    "classifiers.append(KNeighborsClassifier())\n",
    "classifiers.append(LogisticRegression(random_state = random_state))\n",
    "classifiers.append(LinearDiscriminantAnalysis())\n",
    "classifiers.append(XGBClassifier(random_state = random_state))\n",
    "classifiers.append(LGBMClassifier(random_state = random_state))\n",
    "\n",
    "cv_results = []\n",
    "for classifier in classifiers :\n",
    "    score=cross_val_score(classifier, x_sm,y_sm, scoring = \"f1\", cv = kfold, n_jobs=-1)\n",
    "    cv_results.append(score)\n",
    "    print('{} crossvalidation score:{}\\n'.format(classifier,score.mean()))\n",
    "cv_means = []\n",
    "cv_std = []\n",
    "for cv_result in cv_results:\n",
    "    cv_means.append(cv_result.mean())\n",
    "    cv_std.append(cv_result.std())\n",
    "\n",
    "cv_res = pd.DataFrame({\"CrossValMeans\":cv_means,\"CrossValerrors\": cv_std,\"Algorithm\":[\"SVC\",\"DecisionTree\",\"AdaBoost\",\n",
    "\"RandomForest\",\"ExtraTrees\",\"GradientBoosting\",\"MultipleLayerPerceptron\",\"KNeighboors\",\"LogisticRegression\",\"LinearDiscriminantAnalysis\",'XGBoost','LightGBM']})\n",
    "\n",
    "g = sns.barplot(\"CrossValMeans\",\"Algorithm\",data = cv_res, palette=\"Set3\",orient = \"h\",**{'xerr':cv_std})\n",
    "g.set_xlabel(\"Mean Accuracy\")\n",
    "g = g.set_title(\"Cross validation scores\")"
   ]
  },
  {
   "cell_type": "markdown",
   "metadata": {},
   "source": [
    "## conclusion:\n",
    "## Extraa trees performed best(97.62% f1_score) then MLPclassifier(97.51%) then KNN(96.12)"
   ]
  },
  {
   "cell_type": "markdown",
   "metadata": {},
   "source": [
    "## Modelling Different algorithms-Randomforest, Extraa_trees, MLP and KNN for final stacking"
   ]
  },
  {
   "cell_type": "code",
   "execution_count": null,
   "metadata": {},
   "outputs": [],
   "source": []
  },
  {
   "cell_type": "code",
   "execution_count": null,
   "metadata": {},
   "outputs": [],
   "source": []
  },
  {
   "cell_type": "code",
   "execution_count": null,
   "metadata": {},
   "outputs": [],
   "source": []
  },
  {
   "cell_type": "code",
   "execution_count": null,
   "metadata": {},
   "outputs": [],
   "source": []
  },
  {
   "cell_type": "markdown",
   "metadata": {},
   "source": [
    "#### 1.Random forest model training on normal data"
   ]
  },
  {
   "cell_type": "code",
   "execution_count": null,
   "metadata": {
    "id": "Zn7QLzw161Gf"
   },
   "outputs": [],
   "source": [
    "from sklearn.metrics import accuracy_score,f1_score,classification_report\n",
    "\n",
    "RFC = RandomForestClassifier(random_state=2)\n",
    "score=cross_val_score(RFC, x,y, scoring = \"f1\", cv = kfold, n_jobs=-1)\n",
    "RFC.fit(xtrain,ytrain)\n",
    "ypred=RFC.predict(xtest)\n",
    "# Best score\n",
    "print('Accuracy score for random forest: {}'.format(accuracy_score(ytest,ypred)))\n",
    "print('crossval F1 score for random forest: {}'.format(score.mean()))\n",
    "print('F1 score for random forest: {}'.format(f1_score(ytest,ypred)))\n",
    "print(classification_report(ytest,ypred))"
   ]
  },
  {
   "cell_type": "markdown",
   "metadata": {},
   "source": [
    "#### 2.random forest on oversampled data"
   ]
  },
  {
   "cell_type": "code",
   "execution_count": null,
   "metadata": {
    "id": "WZePal1fG7M2",
    "outputId": "5fb12894-ab5d-4ad2-c3d5-f915111bb907"
   },
   "outputs": [],
   "source": [
    "RFC2 = RandomForestClassifier(random_state=2)\n",
    "score=cross_val_score(RFC2, x_os,y_os, scoring = \"f1\", cv = kfold, n_jobs=-1)\n",
    "RFC2.fit(xtrain_os,ytrain_os)\n",
    "ypred_os=RFC2.predict(xtest_os)\n",
    "print('Accuracy score for random forest(oversampled): {}'.format(accuracy_score(ytest_os,ypred_os)))\n",
    "print('crossval F1 score for random forest(oversampled) : {}'.format(score.mean()))\n",
    "print('F1 score for random forest(oversampled): {}'.format(f1_score(ytest_os,ypred_os)))\n",
    "print(classification_report(ytest_os,ypred_os))"
   ]
  },
  {
   "cell_type": "markdown",
   "metadata": {},
   "source": [
    "#### 3. Random forest on smote balanced data"
   ]
  },
  {
   "cell_type": "code",
   "execution_count": null,
   "metadata": {
    "id": "Io_bs2MbMR8-",
    "outputId": "b6f5f14a-fcd0-4685-99cb-20de210e49d7"
   },
   "outputs": [],
   "source": [
    "RFC3 = RandomForestClassifier(random_state=2)\n",
    "score=cross_val_score(RFC3, x_sm,y_sm, scoring = \"f1\", cv = kfold, n_jobs=-1)\n",
    "RFC3.fit(xtrain_sm,ytrain_sm)\n",
    "ypred_sm=RFC3.predict(xtest_sm)\n",
    "print('Accuracy score for random forest(smote balanced): {}'.format(accuracy_score(ytest_sm,ypred_sm)))\n",
    "print('crossval F1 score for random forest(smote balanced): {}'.format(score.mean()))\n",
    "print('F1 score for random forest (smote balanced): {}'.format(f1_score(ytest_sm,ypred_sm)))\n",
    "print(classification_report(ytest_sm,ypred_sm))"
   ]
  },
  {
   "cell_type": "markdown",
   "metadata": {},
   "source": [
    "#### 4.Extraa trees training on smote balanced data"
   ]
  },
  {
   "cell_type": "code",
   "execution_count": null,
   "metadata": {
    "id": "QRd4M2SKS5Ei"
   },
   "outputs": [],
   "source": [
    "ET= ExtraTreesClassifier(random_state=42)\n",
    "score=cross_val_score(ET, x_sm,y_sm, scoring = \"f1\", cv = kfold, n_jobs=-1)\n",
    "ET.fit(xtrain_sm,ytrain_sm)\n",
    "ypred_sm=ET.predict(xtest_sm)\n",
    "\n",
    "# Best score\n",
    "print('Accuracy score for ExtraaTrees Classifier oversampled: {}'.format(accuracy_score(ytest_sm,ypred_sm)))\n",
    "print('crossval F1 score for ExtraaTrees Classifier: {}'.format(score.mean()))\n",
    "print('F1 score for Extraa Trees oversampled: {}'.format(f1_score(ytest_sm,ypred_sm)))\n",
    "print(classification_report(ytest_sm,ypred_sm))"
   ]
  },
  {
   "cell_type": "markdown",
   "metadata": {},
   "source": [
    "#### 5. MLP classifier training on smote data"
   ]
  },
  {
   "cell_type": "code",
   "execution_count": null,
   "metadata": {},
   "outputs": [],
   "source": [
    "MLP= MLPClassifier(random_state=random_state)\n",
    "score=cross_val_score(MLP, x_sm,y_sm, scoring = \"f1\", cv = kfold, n_jobs=-1)\n",
    "MLP.fit(xtrain_sm,ytrain_sm)\n",
    "ypred_sm=MLP.predict(xtest_sm)\n",
    "\n",
    "# Best score\n",
    "print('Accuracy score for MLP Classifier : {}'.format(accuracy_score(ytest_sm,ypred_sm)))\n",
    "print('crossval F1 score for MLP Classifier: {}'.format(score.mean()))\n",
    "print('F1 score for MLP : {}'.format(f1_score(ytest_sm,ypred_sm)))\n",
    "print(classification_report(ytest_sm,ypred_sm))"
   ]
  },
  {
   "cell_type": "markdown",
   "metadata": {},
   "source": [
    "#### 6. KNN training on smote data"
   ]
  },
  {
   "cell_type": "code",
   "execution_count": null,
   "metadata": {},
   "outputs": [],
   "source": [
    "KNN= KNeighborsClassifier()\n",
    "score=cross_val_score(KNN, x_sm,y_sm, scoring = \"f1\", cv = kfold, n_jobs=-1)\n",
    "KNN.fit(xtrain_sm,ytrain_sm)\n",
    "ypred_sm=MLP.predict(xtest_sm)\n",
    "\n",
    "# Best score\n",
    "print('Accuracy score for KNN Classifier : {}'.format(accuracy_score(ytest_sm,ypred_sm)))\n",
    "print('crossval F1 score for KNN Classifier: {}'.format(score.mean()))\n",
    "print('F1 score for KNN : {}'.format(f1_score(ytest_sm,ypred_sm)))\n",
    "print(classification_report(ytest_sm,ypred_sm))"
   ]
  },
  {
   "cell_type": "markdown",
   "metadata": {},
   "source": [
    "# Final Model combining using ensemble techniques"
   ]
  },
  {
   "cell_type": "markdown",
   "metadata": {
    "id": "qdrREqzRD7Cs"
   },
   "source": [
    "## 1.Ensemble Voting classifier"
   ]
  },
  {
   "cell_type": "code",
   "execution_count": null,
   "metadata": {
    "id": "TmBtfryvEBiU"
   },
   "outputs": [],
   "source": [
    "vc= VotingClassifier(estimators=[('rfc', RFC3), ('extc', ET),\n",
    "('mlp',MLP)], voting='soft', n_jobs=-1)\n",
    "vc.fit(xtrain_sm,ytrain_sm)\n",
    "ypred=vc.predict(xtest_sm)\n",
    "score_vc=cross_val_score(vc,x_sm,y_sm,scoring='accuracy',cv=kfold,n_jobs=-1)"
   ]
  },
  {
   "cell_type": "code",
   "execution_count": null,
   "metadata": {
    "id": "bi2C1FNj7arE"
   },
   "outputs": [],
   "source": [
    "print('Accuracy score for Voting classifier: {}'.format(accuracy_score(ytest_sm,ypred_sm)))\n",
    "print('Crossval score for Voting classifier: {}'.format(score_vc.mean()))\n",
    "print('F1 score for Voting : {}'.format(f1_score(ytest_sm,ypred_sm)))\n",
    "print(classification_report(ytest_sm,ypred_sm))"
   ]
  },
  {
   "cell_type": "markdown",
   "metadata": {
    "id": "bV6t-85mSg4b"
   },
   "source": [
    "## 2.Ensemble Stacking classifier"
   ]
  },
  {
   "cell_type": "markdown",
   "metadata": {},
   "source": [
    "### Stacking Random forest, extraa trees model and Multilayer perceptron classifier model"
   ]
  },
  {
   "cell_type": "code",
   "execution_count": 29,
   "metadata": {
    "id": "SnZe9mD-SsLT"
   },
   "outputs": [
    {
     "ename": "NameError",
     "evalue": "name 'RFC3' is not defined",
     "output_type": "error",
     "traceback": [
      "\u001b[1;31m---------------------------------------------------------------------------\u001b[0m",
      "\u001b[1;31mNameError\u001b[0m                                 Traceback (most recent call last)",
      "\u001b[1;32m<ipython-input-29-2921b1a69bc1>\u001b[0m in \u001b[0;36m<module>\u001b[1;34m\u001b[0m\n\u001b[0;32m      1\u001b[0m \u001b[1;32mfrom\u001b[0m \u001b[0msklearn\u001b[0m\u001b[1;33m.\u001b[0m\u001b[0mensemble\u001b[0m \u001b[1;32mimport\u001b[0m \u001b[0mStackingClassifier\u001b[0m\u001b[1;33m\u001b[0m\u001b[1;33m\u001b[0m\u001b[0m\n\u001b[1;32m----> 2\u001b[1;33m \u001b[0mestimators\u001b[0m \u001b[1;33m=\u001b[0m \u001b[1;33m[\u001b[0m\u001b[1;33m(\u001b[0m\u001b[1;34m'rf'\u001b[0m\u001b[1;33m,\u001b[0m \u001b[0mRFC3\u001b[0m\u001b[1;33m)\u001b[0m\u001b[1;33m,\u001b[0m\u001b[1;33m(\u001b[0m\u001b[1;34m'ET'\u001b[0m\u001b[1;33m,\u001b[0m \u001b[0mET\u001b[0m\u001b[1;33m)\u001b[0m\u001b[1;33m]\u001b[0m\u001b[1;33m\u001b[0m\u001b[1;33m\u001b[0m\u001b[0m\n\u001b[0m\u001b[0;32m      3\u001b[0m stck = StackingClassifier(\n\u001b[0;32m      4\u001b[0m      estimators=estimators, final_estimator=MLP)\n\u001b[0;32m      5\u001b[0m \u001b[0mstck\u001b[0m\u001b[1;33m.\u001b[0m\u001b[0mfit\u001b[0m\u001b[1;33m(\u001b[0m\u001b[0mxtrain_sm\u001b[0m\u001b[1;33m,\u001b[0m\u001b[0mytrain_sm\u001b[0m\u001b[1;33m)\u001b[0m\u001b[1;33m\u001b[0m\u001b[1;33m\u001b[0m\u001b[0m\n",
      "\u001b[1;31mNameError\u001b[0m: name 'RFC3' is not defined"
     ]
    }
   ],
   "source": [
    "from sklearn.ensemble import StackingClassifier\n",
    "estimators = [('rf', RFC3),('ET', ET)]\n",
    "stck = StackingClassifier(\n",
    "     estimators=estimators, final_estimator=MLP)\n",
    "stck.fit(xtrain_sm,ytrain_sm)\n",
    "ypred_sm=stck.predict(xtest_sm)\n",
    "score_stack=cross_val_score(stck,x_sm,y_sm,scoring='f1',cv=kfold,n_jobs=-1)"
   ]
  },
  {
   "cell_type": "code",
   "execution_count": null,
   "metadata": {},
   "outputs": [],
   "source": [
    "print('Accuracy score for Stacking classifier: {}'.format(accuracy_score(ytest_sm,ypred_sm)))\n",
    "print('Crossval F1 score for Stackingclassifier: {}'.format(score_stack.mean()))\n",
    "print('F1 score for Stacking classifier: {}'.format(f1_score(ytest_sm,ypred_sm)))\n",
    "print(classification_report(ytest_sm,ypred_sm))"
   ]
  },
  {
   "cell_type": "markdown",
   "metadata": {},
   "source": [
    "### Stacking gave better predictions than voting technique"
   ]
  },
  {
   "cell_type": "markdown",
   "metadata": {
    "id": "zgJsdEAZD1ZY"
   },
   "source": [
    "## Final model is stacked model of RandomForest, Extraatrees and MultilayerPerceptron Classifier"
   ]
  },
  {
   "cell_type": "markdown",
   "metadata": {},
   "source": [
    "## Final model fitting and predicting test data"
   ]
  },
  {
   "cell_type": "code",
   "execution_count": null,
   "metadata": {
    "id": "nXQBolV5Dnv0"
   },
   "outputs": [],
   "source": [
    "Final_model=stck\n",
    "Final_model.fit(x_sm,y_sm)\n",
    "ypred_testset=Final_model.predict(X_TEST)"
   ]
  },
  {
   "cell_type": "markdown",
   "metadata": {},
   "source": [
    "### CSV File created for test data"
   ]
  },
  {
   "cell_type": "code",
   "execution_count": null,
   "metadata": {
    "id": "RElmIrBqEsKI"
   },
   "outputs": [],
   "source": [
    "final_predicted_data=pd.DataFrame({'ID_Test':df_test['ID'],'Label':ypred_testset})\n",
    "final_predicted_data.to_csv('pred_y.csv')"
   ]
  },
  {
   "cell_type": "code",
   "execution_count": null,
   "metadata": {},
   "outputs": [],
   "source": []
  },
  {
   "cell_type": "code",
   "execution_count": null,
   "metadata": {},
   "outputs": [],
   "source": []
  },
  {
   "cell_type": "code",
   "execution_count": null,
   "metadata": {},
   "outputs": [],
   "source": []
  },
  {
   "cell_type": "code",
   "execution_count": null,
   "metadata": {},
   "outputs": [],
   "source": []
  }
 ],
 "metadata": {
  "kernelspec": {
   "display_name": "Python 3",
   "language": "python",
   "name": "python3"
  },
  "language_info": {
   "codemirror_mode": {
    "name": "ipython",
    "version": 3
   },
   "file_extension": ".py",
   "mimetype": "text/x-python",
   "name": "python",
   "nbconvert_exporter": "python",
   "pygments_lexer": "ipython3",
   "version": "3.8.8"
  }
 },
 "nbformat": 4,
 "nbformat_minor": 4
}
